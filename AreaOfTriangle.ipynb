{
 "cells": [
  {
   "cell_type": "code",
   "execution_count": 9,
   "id": "7a62850d",
   "metadata": {},
   "outputs": [
    {
     "name": "stdout",
     "output_type": "stream",
     "text": [
      "Nhập độ dài cạnh a: 3\n",
      "Nhập độ dài cạnh b: 8\n",
      "Nhập độ dài cạnh c: 11\n",
      "Bạn nhập sai độ dài các cạnh rồi! Hãy kiểm tra lại nhé!\n"
     ]
    }
   ],
   "source": [
    "import math\n",
    "a = float(input(\"Nhập độ dài cạnh a: \"))\n",
    "b = float(input(\"Nhập độ dài cạnh b: \"))\n",
    "c = float(input(\"Nhập độ dài cạnh c: \"))\n",
    "if (a+b)>c and (a+c)>b and (b+c)>a:\n",
    "    s = (a+b+c)/2\n",
    "    area = math.sqrt(s*(s-a)*(s-b)*(s-c))\n",
    "    print(\"Diệt tích tam giác là:\", area)\n",
    "else:\n",
    "    print (\"Bạn nhập sai độ dài các cạnh rồi! Hãy kiểm tra lại nhé!\")"
   ]
  },
  {
   "cell_type": "code",
   "execution_count": null,
   "id": "8c416f63",
   "metadata": {},
   "outputs": [],
   "source": []
  }
 ],
 "metadata": {
  "kernelspec": {
   "display_name": "Python 3",
   "language": "python",
   "name": "python3"
  },
  "language_info": {
   "codemirror_mode": {
    "name": "ipython",
    "version": 3
   },
   "file_extension": ".py",
   "mimetype": "text/x-python",
   "name": "python",
   "nbconvert_exporter": "python",
   "pygments_lexer": "ipython3",
   "version": "3.8.8"
  }
 },
 "nbformat": 4,
 "nbformat_minor": 5
}
