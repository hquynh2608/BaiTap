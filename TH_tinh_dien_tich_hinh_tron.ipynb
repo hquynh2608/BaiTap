{
 "cells": [
  {
   "cell_type": "code",
   "execution_count": 5,
   "id": "8e5b15c9",
   "metadata": {
    "scrolled": true
   },
   "outputs": [
    {
     "name": "stdout",
     "output_type": "stream",
     "text": [
      "Bán kính của hình tròn là:30\n"
     ]
    },
    {
     "name": "stderr",
     "output_type": "stream",
     "text": [
      "Exception in Tkinter callback\n",
      "Traceback (most recent call last):\n",
      "  File \"C:\\Users\\admin\\anaconda3\\lib\\tkinter\\__init__.py\", line 1889, in __call__\n",
      "    try:\n",
      "KeyboardInterrupt\n"
     ]
    },
    {
     "name": "stdout",
     "output_type": "stream",
     "text": [
      "Chu vi của hình tròn có bán kính bằng 30 là: 188.50\n",
      "Diện tích của hình tròn có bán kính = 30 là 2827.43\n"
     ]
    }
   ],
   "source": [
    "import turtle\n",
    "import math\n",
    "r = int(input(\"Bán kính của hình tròn là:\"))\n",
    "t = turtle.Turtle()\n",
    "t.hideturtle()\n",
    "t.pensize(3)\n",
    "t.color(\"cyan\")\n",
    "t.circle(r)\n",
    "turtle.done()\n",
    "c = 2*math.pi*r\n",
    "s = math.pi*r*r\n",
    "print(\"Chu vi của hình tròn có bán kính bằng {r} là: {c:.2f}\".format(r=r, c=c))\n",
    "print(\"Diện tích của hình tròn có bán kính = {r} là {s:.2f}\".format(r=r, s=s))\n"
   ]
  },
  {
   "cell_type": "code",
   "execution_count": null,
   "id": "c9041ab2",
   "metadata": {},
   "outputs": [],
   "source": []
  }
 ],
 "metadata": {
  "kernelspec": {
   "display_name": "Python 3",
   "language": "python",
   "name": "python3"
  },
  "language_info": {
   "codemirror_mode": {
    "name": "ipython",
    "version": 3
   },
   "file_extension": ".py",
   "mimetype": "text/x-python",
   "name": "python",
   "nbconvert_exporter": "python",
   "pygments_lexer": "ipython3",
   "version": "3.8.8"
  }
 },
 "nbformat": 4,
 "nbformat_minor": 5
}
