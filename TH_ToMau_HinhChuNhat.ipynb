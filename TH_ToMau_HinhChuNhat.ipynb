{
 "cells": [
  {
   "cell_type": "code",
   "execution_count": null,
   "id": "d400ff05",
   "metadata": {},
   "outputs": [],
   "source": [
    "import turtle\n",
    "color = input(\"Nhập màu hoặc mã màu: \")\n",
    "w = float(input(\"Nhập chiều dài hình chữ nhật: \"))\n",
    "h = float(input(\"Nhập chiều rộng hình chữ nhật: \"))\n",
    "t = turtle.Turtle()\n",
    "t.hideturtle()\n",
    "t.color(color)\n",
    "t.begin_fill()\n",
    "t.forward(w)\n",
    "t.right(90)\n",
    "t.forward(h)\n",
    "t.right(90)\n",
    "t.forward(w)\n",
    "t.right(90)\n",
    "t.forward(h)\n",
    "t.end_fill()\n",
    "turtle.done()\n",
    "\n",
    "c = 2 * (w + h)\n",
    "s = w * h\n",
    "\n",
    "print(\"Chu vi của hình chữ nhật (dài = {w}, rộng = {h}) là {c}\".format(w=w, h=h, c=c))\n",
    "print(\"Diện tích của hình chữ nhật (dài = {w}, rộng = {h}) là {s}\".format(w=w, h=h, s=s))"
   ]
  },
  {
   "cell_type": "code",
   "execution_count": null,
   "id": "4b33329b",
   "metadata": {},
   "outputs": [],
   "source": []
  }
 ],
 "metadata": {
  "kernelspec": {
   "display_name": "Python 3",
   "language": "python",
   "name": "python3"
  },
  "language_info": {
   "codemirror_mode": {
    "name": "ipython",
    "version": 3
   },
   "file_extension": ".py",
   "mimetype": "text/x-python",
   "name": "python",
   "nbconvert_exporter": "python",
   "pygments_lexer": "ipython3",
   "version": "3.8.8"
  }
 },
 "nbformat": 4,
 "nbformat_minor": 5
}
