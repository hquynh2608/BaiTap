{
 "cells": [
  {
   "cell_type": "code",
   "execution_count": 9,
   "id": "71f23f20",
   "metadata": {},
   "outputs": [
    {
     "name": "stdout",
     "output_type": "stream",
     "text": [
      "Nhập bán kính đường tròn:80\n"
     ]
    }
   ],
   "source": [
    "import turtle\n",
    "t = turtle.Turtle()\n",
    "t.speed(10)\n",
    "t.pensize(2)\n",
    "t.pencolor(\"black\")\n",
    "r = float(input(\"Nhập bán kính đường tròn:\")) \n",
    "if r > 0:\n",
    "    for i in range(2):      \n",
    "        t.circle(r,90)\n",
    "        t.circle(r/2,90)\n",
    "else:\n",
    "    print(\"Bạn nhập sai bán kính đường tròn rồi!\")\n",
    "turtle.done()"
   ]
  },
  {
   "cell_type": "code",
   "execution_count": 14,
   "id": "dac2d188",
   "metadata": {},
   "outputs": [
    {
     "name": "stdout",
     "output_type": "stream",
     "text": [
      "Nhập bán kính đường tròn:90\n"
     ]
    }
   ],
   "source": [
    "import turtle\n",
    "t = turtle.Turtle()\n",
    "t.speed(10)\n",
    "t.pensize(2)\n",
    "t.pencolor(\"black\")\n",
    "r = float(input(\"Nhập bán kính đường tròn:\")) \n",
    "if r <= 0: \n",
    "    print(\"Bán kính đường tròn phải là một số lớn hơn 0.\")\n",
    "i = 0\n",
    "while i < 2:      \n",
    "    t.circle(r,90)\n",
    "    t.circle(r/2,90)\n",
    "    i += 1\n",
    "turtle.done()"
   ]
  },
  {
   "cell_type": "code",
   "execution_count": 4,
   "id": "cab3eec4",
   "metadata": {},
   "outputs": [
    {
     "name": "stdout",
     "output_type": "stream",
     "text": [
      "Nhập bán kính đường tròn:80\n"
     ]
    }
   ],
   "source": [
    "import turtle\n",
    "import random\n",
    "colors = [\"blue\", \"green\", \"red\", \"yellow\", \"grey\", \"black\", \"cyan\", \"pink\", \"orange\"]\n",
    "t = turtle.Turtle()\n",
    "t.speed(100)\n",
    "t.pensize(1)\n",
    "r = float(input(\"Nhập bán kính đường tròn:\"))\n",
    "if r > 0:\n",
    "   for i in range(60):\n",
    "        ran_number = random.randint(0,8)\n",
    "        random_color = colors[ran_number]\n",
    "        t.pencolor(random_color)\n",
    "        t.right(6)\n",
    "        for i in range(2):\n",
    "            t.circle(r,90)\n",
    "            t.circle(r/2,90)\n",
    "else:\n",
    "    print(\"Bạn nhập sai bán kính đường tròn rồi!\")\n",
    "turtle.done()"
   ]
  },
  {
   "cell_type": "code",
   "execution_count": 10,
   "id": "bf0daa2e",
   "metadata": {},
   "outputs": [
    {
     "name": "stdout",
     "output_type": "stream",
     "text": [
      "Nhập bán kính đường tròn:80\n"
     ]
    }
   ],
   "source": [
    "import turtle\n",
    "import random\n",
    "colors = [\"blue\", \"green\", \"red\", \"yellow\", \"grey\", \"black\", \"cyan\", \"pink\", \"orange\"]\n",
    "t = turtle.Turtle()\n",
    "t.speed(100)\n",
    "t.pensize(1)\n",
    "r = float(input(\"Nhập bán kính đường tròn:\"))\n",
    "if r <= 0: \n",
    "    print(\"Bán kính đường tròn phải là một số lớn hơn 0.\")\n",
    "i = 0\n",
    "while i < 60:\n",
    "    ran_number = random.randint(0,8)\n",
    "    random_color = colors[ran_number]\n",
    "    t.pencolor(random_color)\n",
    "    t.right(6)\n",
    "    i += 1\n",
    "    k = 0\n",
    "    while k < 2:\n",
    "        t.circle(r,90)\n",
    "        t.circle(r/2,90)\n",
    "        k += 1\n",
    "turtle.done()"
   ]
  },
  {
   "cell_type": "code",
   "execution_count": null,
   "id": "12137833",
   "metadata": {},
   "outputs": [],
   "source": []
  }
 ],
 "metadata": {
  "kernelspec": {
   "display_name": "Python 3",
   "language": "python",
   "name": "python3"
  },
  "language_info": {
   "codemirror_mode": {
    "name": "ipython",
    "version": 3
   },
   "file_extension": ".py",
   "mimetype": "text/x-python",
   "name": "python",
   "nbconvert_exporter": "python",
   "pygments_lexer": "ipython3",
   "version": "3.8.8"
  }
 },
 "nbformat": 4,
 "nbformat_minor": 5
}
