{
 "cells": [
  {
   "cell_type": "code",
   "execution_count": 18,
   "id": "a5d8483b",
   "metadata": {},
   "outputs": [
    {
     "name": "stdout",
     "output_type": "stream",
     "text": [
      "Tổng tiền:400000\n",
      "Tổng tiền: 400000 VNĐ\n",
      "Số tiền phải thanh toán:  400000 VNĐ\n"
     ]
    }
   ],
   "source": [
    "num = int(input(\"Tổng tiền:\"))\n",
    "print(\"Tổng tiền:\", num, \"VNĐ\")\n",
    "\n",
    "if num >= 1500000:\n",
    "    print(\"Số tiền phải thanh toán: \", num - 50000,\"VNĐ\")\n",
    "elif num >= 1000000:\n",
    "    print(\"Số tiền phải thanh toán: \", num - 25000,\"VNĐ\")\n",
    "elif num >= 750000:\n",
    "    print(\"Số tiền phải thanh toán: \", num - 15000,\"VNĐ\")\n",
    "else:\n",
    "    print(\"Số tiền phải thanh toán: \", num,\"VNĐ\")"
   ]
  },
  {
   "cell_type": "code",
   "execution_count": null,
   "id": "a69f6816",
   "metadata": {},
   "outputs": [],
   "source": []
  }
 ],
 "metadata": {
  "kernelspec": {
   "display_name": "Python 3",
   "language": "python",
   "name": "python3"
  },
  "language_info": {
   "codemirror_mode": {
    "name": "ipython",
    "version": 3
   },
   "file_extension": ".py",
   "mimetype": "text/x-python",
   "name": "python",
   "nbconvert_exporter": "python",
   "pygments_lexer": "ipython3",
   "version": "3.8.8"
  }
 },
 "nbformat": 4,
 "nbformat_minor": 5
}
