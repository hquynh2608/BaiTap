{
 "cells": [
  {
   "cell_type": "code",
   "execution_count": 9,
   "id": "e09c22f8",
   "metadata": {},
   "outputs": [
    {
     "name": "stdout",
     "output_type": "stream",
     "text": [
      "Chiều cao của bạn? (m) 1.67\n",
      "Cân nặng của bạn (kg)? 55\n",
      "Chi so BMI:  16.467065868263475\n",
      "Gay cap do II\n"
     ]
    }
   ],
   "source": [
    "height = float(input(\"Chiều cao của bạn? (m) \"))\n",
    "weight = float(input(\"Cân nặng của bạn (kg)? \"))\n",
    "bmi = weight / (height * 2)\n",
    "if height <=0 or weight <=0:\n",
    "    print(\"Bạn cần nhập đúng chiều cao và cân nặng!\")\n",
    "else:\n",
    "    print(\"Chi so BMI: \", bmi)\n",
    "    if bmi < 16:\n",
    "        print(\"Gay cap do III\")\n",
    "    elif bmi >= 16 and bmi < 17:\n",
    "        print(\"Gay cap do II\")\n",
    "    elif bmi >= 17 and bmi < 18.5:\n",
    "        print(\"Gay cap do I\")\n",
    "    elif bmi >= 18.5 and bmi < 25: \n",
    "        print(\"Binh thuong\")\n",
    "    elif bmi >= 25 and bmi < 30: \n",
    "        print(\"Thua can\")\n",
    "    elif bmi >= 30 and bmi < 35: \n",
    "        print(\"Beo phi cap do I\")\n",
    "    elif bmi >= 35 and bmi < 40:\n",
    "        print(\"Beo phi cap do II\")\n",
    "    else: \n",
    "        print(\"Beo phi cap do III\")"
   ]
  },
  {
   "cell_type": "code",
   "execution_count": null,
   "id": "68b9ffc4",
   "metadata": {},
   "outputs": [],
   "source": []
  }
 ],
 "metadata": {
  "kernelspec": {
   "display_name": "Python 3",
   "language": "python",
   "name": "python3"
  },
  "language_info": {
   "codemirror_mode": {
    "name": "ipython",
    "version": 3
   },
   "file_extension": ".py",
   "mimetype": "text/x-python",
   "name": "python",
   "nbconvert_exporter": "python",
   "pygments_lexer": "ipython3",
   "version": "3.8.8"
  }
 },
 "nbformat": 4,
 "nbformat_minor": 5
}
