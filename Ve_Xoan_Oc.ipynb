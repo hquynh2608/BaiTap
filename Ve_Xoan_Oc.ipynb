{
 "cells": [
  {
   "cell_type": "code",
   "execution_count": 7,
   "id": "b9597c61",
   "metadata": {},
   "outputs": [],
   "source": [
    "import turtle\n",
    "t = turtle.Turtle()\n",
    "t.speed(100)\n",
    "t.pensize(2)\n",
    "t.pencolor(\"black\")\n",
    "t.right(10)\n",
    "d = 0\n",
    "r = 0\n",
    "while r<200:\n",
    "    t.forward(d)\n",
    "    t.left(10)\n",
    "    d += 0.1\n",
    "    r += 1        \n",
    "turtle.done()"
   ]
  }
 ],
 "metadata": {
  "kernelspec": {
   "display_name": "Python 3",
   "language": "python",
   "name": "python3"
  },
  "language_info": {
   "codemirror_mode": {
    "name": "ipython",
    "version": 3
   },
   "file_extension": ".py",
   "mimetype": "text/x-python",
   "name": "python",
   "nbconvert_exporter": "python",
   "pygments_lexer": "ipython3",
   "version": "3.8.8"
  }
 },
 "nbformat": 4,
 "nbformat_minor": 5
}
