{
 "cells": [
  {
   "cell_type": "code",
   "execution_count": 1,
   "id": "bf6a9b25",
   "metadata": {},
   "outputs": [],
   "source": [
    "import turtle\n",
    "a = turtle.Turtle()\n",
    "a.pensize(3)\n",
    "a.pencolor(\"blue\")\n",
    "a.fillcolor(\"orange\")\n",
    "a.begin_fill()\n",
    "a.forward(310)\n",
    "a.right(90)\n",
    "a.forward(130)\n",
    "a.right(90)\n",
    "a.forward(310)\n",
    "a.right(90)\n",
    "a.forward(130)\n",
    "a.end_fill()\n",
    "turtle.done()"
   ]
  },
  {
   "cell_type": "code",
   "execution_count": null,
   "id": "eea2bbc8",
   "metadata": {},
   "outputs": [],
   "source": []
  }
 ],
 "metadata": {
  "kernelspec": {
   "display_name": "Python 3",
   "language": "python",
   "name": "python3"
  },
  "language_info": {
   "codemirror_mode": {
    "name": "ipython",
    "version": 3
   },
   "file_extension": ".py",
   "mimetype": "text/x-python",
   "name": "python",
   "nbconvert_exporter": "python",
   "pygments_lexer": "ipython3",
   "version": "3.8.8"
  }
 },
 "nbformat": 4,
 "nbformat_minor": 5
}
