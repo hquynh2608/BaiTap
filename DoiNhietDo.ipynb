{
 "cells": [
  {
   "cell_type": "code",
   "execution_count": 5,
   "id": "4fee4859",
   "metadata": {},
   "outputs": [
    {
     "name": "stdout",
     "output_type": "stream",
     "text": [
      "Nhiệt độ theo độ C:3\n",
      "Nhiệt độ theo độ F: 37.4\n"
     ]
    }
   ],
   "source": [
    "c = int(input(\"Nhiệt độ theo độ C:\"))\n",
    "F = (9*c)/5 + 32\n",
    "print(\"Nhiệt độ theo độ F:\", F)"
   ]
  },
  {
   "cell_type": "code",
   "execution_count": null,
   "id": "f2cac79e",
   "metadata": {},
   "outputs": [],
   "source": []
  }
 ],
 "metadata": {
  "kernelspec": {
   "display_name": "Python 3",
   "language": "python",
   "name": "python3"
  },
  "language_info": {
   "codemirror_mode": {
    "name": "ipython",
    "version": 3
   },
   "file_extension": ".py",
   "mimetype": "text/x-python",
   "name": "python",
   "nbconvert_exporter": "python",
   "pygments_lexer": "ipython3",
   "version": "3.8.8"
  }
 },
 "nbformat": 4,
 "nbformat_minor": 5
}
