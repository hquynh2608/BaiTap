{
 "cells": [
  {
   "cell_type": "code",
   "execution_count": 10,
   "id": "c84a27b9",
   "metadata": {},
   "outputs": [],
   "source": [
    "import turtle\n",
    "a = turtle\n",
    "a.pensize(3)\n",
    "a.pencolor(\"purple\")\n",
    "a.fillcolor(\"pink\")\n",
    "a.begin_fill()\n",
    "a.circle (100)\n",
    "a.end_fill()\n",
    "a.penup()\n",
    "a.goto(100,-150)\n",
    "a.pendown()\n",
    "a.pensize(7)\n",
    "a.pencolor(\"black\")\n",
    "a.fillcolor(\"yellow\")\n",
    "a.begin_fill()\n",
    "a.circle (60)\n",
    "a.end_fill()\n",
    "turtle.done() "
   ]
  },
  {
   "cell_type": "code",
   "execution_count": null,
   "id": "074ecb81",
   "metadata": {},
   "outputs": [],
   "source": []
  }
 ],
 "metadata": {
  "kernelspec": {
   "display_name": "Python 3",
   "language": "python",
   "name": "python3"
  },
  "language_info": {
   "codemirror_mode": {
    "name": "ipython",
    "version": 3
   },
   "file_extension": ".py",
   "mimetype": "text/x-python",
   "name": "python",
   "nbconvert_exporter": "python",
   "pygments_lexer": "ipython3",
   "version": "3.8.8"
  }
 },
 "nbformat": 4,
 "nbformat_minor": 5
}
