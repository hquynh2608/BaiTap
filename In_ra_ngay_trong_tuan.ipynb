{
 "cells": [
  {
   "cell_type": "code",
   "execution_count": 1,
   "id": "09f705ca",
   "metadata": {},
   "outputs": [
    {
     "name": "stdout",
     "output_type": "stream",
     "text": [
      "Nhập vào một số trong các số từ 1 đến 7: 3\n",
      "Thứ 4\n"
     ]
    }
   ],
   "source": [
    "week = ['Chủ Nhật', 'Thứ 2', 'Thứ 3', 'Thứ 4', 'Thứ 5', 'Thứ 6', 'Thứ 7']\n",
    "num = int(input(\"Nhập vào một số trong các số từ 1 đến 7: \"))\n",
    "day = num % 7\n",
    "if num > 7 or num < 1:\n",
    "    print(\"Lỗi! Phải nhập một số trong khoảng từ 1 đến 7!\")\n",
    "else:\n",
    "    print(week[day])\n"
   ]
  },
  {
   "cell_type": "code",
   "execution_count": null,
   "id": "415fcbc9",
   "metadata": {},
   "outputs": [],
   "source": []
  }
 ],
 "metadata": {
  "kernelspec": {
   "display_name": "Python 3",
   "language": "python",
   "name": "python3"
  },
  "language_info": {
   "codemirror_mode": {
    "name": "ipython",
    "version": 3
   },
   "file_extension": ".py",
   "mimetype": "text/x-python",
   "name": "python",
   "nbconvert_exporter": "python",
   "pygments_lexer": "ipython3",
   "version": "3.8.8"
  }
 },
 "nbformat": 4,
 "nbformat_minor": 5
}
