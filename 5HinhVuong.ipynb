{
 "cells": [
  {
   "cell_type": "code",
   "execution_count": 4,
   "id": "462e4c4c",
   "metadata": {},
   "outputs": [],
   "source": [
    "import turtle\n",
    "turtle.bgcolor(\"pink\")\n",
    "a = turtle.Turtle()\n",
    "a.pensize(2)\n",
    "for i in range(5):\n",
    "    a.left(72)\n",
    "    for i in range(4):\n",
    "        a.forward(150)\n",
    "        a.right(90)"
   ]
  },
  {
   "cell_type": "code",
   "execution_count": null,
   "id": "05e26b4a",
   "metadata": {},
   "outputs": [],
   "source": []
  }
 ],
 "metadata": {
  "kernelspec": {
   "display_name": "Python 3",
   "language": "python",
   "name": "python3"
  },
  "language_info": {
   "codemirror_mode": {
    "name": "ipython",
    "version": 3
   },
   "file_extension": ".py",
   "mimetype": "text/x-python",
   "name": "python",
   "nbconvert_exporter": "python",
   "pygments_lexer": "ipython3",
   "version": "3.8.8"
  }
 },
 "nbformat": 4,
 "nbformat_minor": 5
}
