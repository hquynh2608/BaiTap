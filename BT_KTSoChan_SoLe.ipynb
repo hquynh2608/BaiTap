{
 "cells": [
  {
   "cell_type": "code",
   "execution_count": 21,
   "id": "b8beb95e",
   "metadata": {},
   "outputs": [
    {
     "name": "stdout",
     "output_type": "stream",
     "text": [
      "Nhập vào một số:13\n",
      "là số lẻ.\n"
     ]
    }
   ],
   "source": [
    "num = int(input(\"Nhập vào một số:\"))\n",
    "if num < 0:\n",
    "    print(\"Bạn phải nhập một số tự nhiên!\")\n",
    "else:\n",
    "    if (num%2 == 0):\n",
    "        mgs = \" là số chẵn.\"\n",
    "    else:\n",
    "        mgs = \"là số lẻ.\"\n",
    "    print(mgs)"
   ]
  },
  {
   "cell_type": "code",
   "execution_count": 4,
   "id": "7d5a2cd8",
   "metadata": {},
   "outputs": [
    {
     "name": "stdout",
     "output_type": "stream",
     "text": [
      "Nhập vào một số:-7\n",
      "là số lẻ.\n"
     ]
    }
   ],
   "source": [
    "num = float(input(\"Nhập vào một số:\"))\n",
    "if (num%2 == 0):\n",
    "    mgs = \" là số chẵn.\"\n",
    "    print(mgs)\n",
    "elif (num%2 == 1):\n",
    "    mgs = \"là số lẻ.\"\n",
    "    print(mgs)\n",
    "else:\n",
    "    print(\"Không phải là số tự nhiên!\")"
   ]
  },
  {
   "cell_type": "code",
   "execution_count": null,
   "id": "5153da74",
   "metadata": {},
   "outputs": [],
   "source": []
  },
  {
   "cell_type": "code",
   "execution_count": null,
   "id": "53befd39",
   "metadata": {},
   "outputs": [],
   "source": []
  }
 ],
 "metadata": {
  "kernelspec": {
   "display_name": "Python 3",
   "language": "python",
   "name": "python3"
  },
  "language_info": {
   "codemirror_mode": {
    "name": "ipython",
    "version": 3
   },
   "file_extension": ".py",
   "mimetype": "text/x-python",
   "name": "python",
   "nbconvert_exporter": "python",
   "pygments_lexer": "ipython3",
   "version": "3.8.8"
  }
 },
 "nbformat": 4,
 "nbformat_minor": 5
}
