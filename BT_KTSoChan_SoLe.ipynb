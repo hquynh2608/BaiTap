{
 "cells": [
  {
   "cell_type": "code",
   "execution_count": 8,
   "id": "4c4fce6d",
   "metadata": {},
   "outputs": [
    {
     "name": "stdout",
     "output_type": "stream",
     "text": [
      "Nhập vào một số:-7\n",
      "là số lẻ.\n"
     ]
    }
   ],
   "source": [
    "num = int(input(\"Nhập vào một số:\"))\n",
    "if (num%2 == 0):\n",
    "    mgs = \" là số chẵn.\"\n",
    "else:\n",
    "    mgs = \"là số lẻ.\"\n",
    "print(mgs)\n",
    "    \n"
   ]
  },
  {
   "cell_type": "code",
   "execution_count": 4,
   "id": "166e236d",
   "metadata": {},
   "outputs": [
    {
     "name": "stdout",
     "output_type": "stream",
     "text": [
      "Nhập vào một số:-7\n",
      "là số lẻ.\n"
     ]
    }
   ],
   "source": [
    "num = float(input(\"Nhập vào một số:\"))\n",
    "if (num%2 == 0):\n",
    "    mgs = \" là số chẵn.\"\n",
    "    print(mgs)\n",
    "elif (num%2 == 1):\n",
    "    mgs = \"là số lẻ.\"\n",
    "    print(mgs)\n",
    "else:\n",
    "    print(\"Không phải là số tự nhiên!\")"
   ]
  },
  {
   "cell_type": "code",
   "execution_count": null,
   "id": "2a47ff07",
   "metadata": {},
   "outputs": [],
   "source": []
  },
  {
   "cell_type": "code",
   "execution_count": null,
   "id": "1b65640b",
   "metadata": {},
   "outputs": [],
   "source": []
  }
 ],
 "metadata": {
  "kernelspec": {
   "display_name": "Python 3",
   "language": "python",
   "name": "python3"
  },
  "language_info": {
   "codemirror_mode": {
    "name": "ipython",
    "version": 3
   },
   "file_extension": ".py",
   "mimetype": "text/x-python",
   "name": "python",
   "nbconvert_exporter": "python",
   "pygments_lexer": "ipython3",
   "version": "3.8.8"
  }
 },
 "nbformat": 4,
 "nbformat_minor": 5
}
