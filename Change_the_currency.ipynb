{
 "cells": [
  {
   "cell_type": "code",
   "execution_count": 14,
   "id": "a4a3aa1f",
   "metadata": {},
   "outputs": [
    {
     "name": "stdout",
     "output_type": "stream",
     "text": [
      "Nhập số USD cần đổi:346.68\n",
      "Tỉ giá - 1 USD đổi được:24156\n",
      "346.68 USD đổi được 8,374,402.08 VNĐ \n"
     ]
    }
   ],
   "source": [
    "import math\n",
    "usd = float(input(\"Nhập số USD cần đổi:\"))\n",
    "rate = float(input(\"Tỉ giá - 1 USD đổi được:\")) #Tỉ giá = exchange rate\n",
    "vnd = usd*rate\n",
    "out = \"{usd} USD đổi được {vnd:03,.2f} VNĐ \"\n",
    "print(out.format(usd=usd,vnd=vnd))"
   ]
  },
  {
   "cell_type": "code",
   "execution_count": null,
   "id": "359c9c78",
   "metadata": {},
   "outputs": [],
   "source": []
  }
 ],
 "metadata": {
  "kernelspec": {
   "display_name": "Python 3",
   "language": "python",
   "name": "python3"
  },
  "language_info": {
   "codemirror_mode": {
    "name": "ipython",
    "version": 3
   },
   "file_extension": ".py",
   "mimetype": "text/x-python",
   "name": "python",
   "nbconvert_exporter": "python",
   "pygments_lexer": "ipython3",
   "version": "3.8.8"
  }
 },
 "nbformat": 4,
 "nbformat_minor": 5
}
